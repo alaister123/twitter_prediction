{
 "cells": [
  {
   "cell_type": "code",
   "execution_count": 28,
   "metadata": {},
   "outputs": [],
   "source": [
    "import numpy as np\n",
    "import nltk\n",
    "import pandas as pd\n",
    "import string\n",
    "import re\n",
    "from nltk.tokenize import word_tokenize\n",
    "from sklearn.model_selection import train_test_split\n",
    "from sklearn.metrics import accuracy_score\n",
    "from tensorflow.keras.layers import Embedding \n",
    "from tensorflow.keras.preprocessing.sequence import pad_sequences \n",
    "from tensorflow.keras.models import Sequential \n",
    "from tensorflow.keras.preprocessing.text import one_hot \n",
    "from tensorflow.keras.layers import LSTM \n",
    "from tensorflow.keras.layers import Dense \n",
    "from tensorflow.keras.layers import Dropout"
   ]
  },
  {
   "cell_type": "code",
   "execution_count": 2,
   "metadata": {},
   "outputs": [],
   "source": [
    "train = pd.read_csv(\"train.csv\")"
   ]
  },
  {
   "cell_type": "code",
   "execution_count": 3,
   "metadata": {},
   "outputs": [],
   "source": [
    "data = train[['text','target']].copy()"
   ]
  },
  {
   "cell_type": "code",
   "execution_count": 4,
   "metadata": {},
   "outputs": [],
   "source": [
    "def removeURL(text):\n",
    "    url = re.compile(r'https?://\\S+|www\\.\\S+')\n",
    "    return url.sub(r'',text)\n",
    "\n",
    "data[\"text\"]=data[\"text\"].apply(lambda x: removeURL(x))"
   ]
  },
  {
   "cell_type": "code",
   "execution_count": 5,
   "metadata": {},
   "outputs": [],
   "source": [
    "def removeEMO(text):\n",
    "    pattern = re.compile(\"[\"\n",
    "                           u\"\\U0001F600-\\U0001F64F\"  # emoticons\n",
    "                           u\"\\U0001F300-\\U0001F5FF\"  # symbols & pictographs\n",
    "                           u\"\\U0001F680-\\U0001F6FF\"  # transport & map symbols\n",
    "                           u\"\\U0001F1E0-\\U0001F1FF\"  # flags (iOS)\n",
    "                           u\"\\U00002702-\\U000027B0\"\n",
    "                           u\"\\U000024C2-\\U0001F251\"\n",
    "                           \"]+\", flags=re.UNICODE)\n",
    "    return pattern.sub(r'', text)\n",
    "data[\"text\"]=data[\"text\"].apply(lambda x: removeEMO(x))"
   ]
  },
  {
   "cell_type": "code",
   "execution_count": 6,
   "metadata": {},
   "outputs": [],
   "source": [
    "def removePUN(text):\n",
    "    return text.translate(str.maketrans('', '', string.punctuation))\n",
    "data[\"text\"]=data[\"text\"].apply(lambda x: removePUN(x))"
   ]
  },
  {
   "cell_type": "code",
   "execution_count": 15,
   "metadata": {},
   "outputs": [],
   "source": [
    "s = 7000"
   ]
  },
  {
   "cell_type": "code",
   "execution_count": 16,
   "metadata": {},
   "outputs": [],
   "source": [
    "onehot = [one_hot(words,s) for words in data['text']]"
   ]
  },
  {
   "cell_type": "code",
   "execution_count": 23,
   "metadata": {},
   "outputs": [],
   "source": [
    "sent_length =40\n",
    "X = pad_sequences(onehot,padding='pre',maxlen=sent_length)\n",
    "embedding_vector_features=50\n",
    "\n",
    "Y = data['target']"
   ]
  },
  {
   "cell_type": "code",
   "execution_count": 24,
   "metadata": {},
   "outputs": [],
   "source": [
    "model=Sequential()\n",
    "model.add(Embedding(s,embedding_vector_features,input_length=sent_length))\n",
    "model.add(Dropout(0.2))\n",
    "model.add(LSTM(100))\n",
    "model.add(Dropout(0.2))\n",
    "model.add(Dense(1,activation='sigmoid'))\n",
    "model.compile(loss='binary_crossentropy',optimizer='adam',metrics=['accuracy'])"
   ]
  },
  {
   "cell_type": "code",
   "execution_count": 25,
   "metadata": {},
   "outputs": [],
   "source": [
    "X_train,X_test,Y_train,Y_test = train_test_split(X,Y,test_size=0.25,random_state=1)"
   ]
  },
  {
   "cell_type": "code",
   "execution_count": 27,
   "metadata": {},
   "outputs": [
    {
     "name": "stdout",
     "output_type": "stream",
     "text": [
      "Epoch 1/30\n",
      "179/179 [==============================] - 10s 59ms/step - loss: 0.5717 - accuracy: 0.6964 - val_loss: 0.4730 - val_accuracy: 0.7810\n",
      "Epoch 2/30\n",
      "179/179 [==============================] - 10s 53ms/step - loss: 0.3773 - accuracy: 0.8406 - val_loss: 0.5292 - val_accuracy: 0.7684\n",
      "Epoch 3/30\n",
      "179/179 [==============================] - 10s 53ms/step - loss: 0.2824 - accuracy: 0.8882 - val_loss: 0.5255 - val_accuracy: 0.7589\n",
      "Epoch 4/30\n",
      "179/179 [==============================] - 9s 52ms/step - loss: 0.2083 - accuracy: 0.9185 - val_loss: 0.7435 - val_accuracy: 0.7437\n",
      "Epoch 5/30\n",
      "179/179 [==============================] - 9s 53ms/step - loss: 0.1604 - accuracy: 0.9431 - val_loss: 0.6825 - val_accuracy: 0.7458\n",
      "Epoch 6/30\n",
      "179/179 [==============================] - 9s 52ms/step - loss: 0.1204 - accuracy: 0.9590 - val_loss: 0.8954 - val_accuracy: 0.7421\n",
      "Epoch 7/30\n",
      "179/179 [==============================] - 10s 53ms/step - loss: 0.0964 - accuracy: 0.9669 - val_loss: 0.9432 - val_accuracy: 0.7353\n",
      "Epoch 8/30\n",
      "179/179 [==============================] - 9s 52ms/step - loss: 0.0776 - accuracy: 0.9743 - val_loss: 0.9962 - val_accuracy: 0.7232\n",
      "Epoch 9/30\n",
      "179/179 [==============================] - 9s 52ms/step - loss: 0.0705 - accuracy: 0.9764 - val_loss: 1.1262 - val_accuracy: 0.7227\n",
      "Epoch 10/30\n",
      "179/179 [==============================] - 9s 52ms/step - loss: 0.0585 - accuracy: 0.9807 - val_loss: 1.0635 - val_accuracy: 0.7274\n",
      "Epoch 11/30\n",
      "179/179 [==============================] - 9s 53ms/step - loss: 0.0524 - accuracy: 0.9786 - val_loss: 1.0977 - val_accuracy: 0.7206\n",
      "Epoch 12/30\n",
      "179/179 [==============================] - 9s 53ms/step - loss: 0.0506 - accuracy: 0.9795 - val_loss: 1.1535 - val_accuracy: 0.7327\n",
      "Epoch 13/30\n",
      "179/179 [==============================] - 10s 54ms/step - loss: 0.0447 - accuracy: 0.9830 - val_loss: 1.3059 - val_accuracy: 0.7327\n",
      "Epoch 14/30\n",
      "179/179 [==============================] - 10s 55ms/step - loss: 0.0493 - accuracy: 0.9809 - val_loss: 1.3544 - val_accuracy: 0.7206\n",
      "Epoch 15/30\n",
      "179/179 [==============================] - 8s 47ms/step - loss: 0.0395 - accuracy: 0.9827 - val_loss: 1.4556 - val_accuracy: 0.7269\n",
      "Epoch 16/30\n",
      "179/179 [==============================] - 9s 50ms/step - loss: 0.0379 - accuracy: 0.9851 - val_loss: 1.3728 - val_accuracy: 0.7190\n",
      "Epoch 17/30\n",
      "179/179 [==============================] - 8s 47ms/step - loss: 0.0336 - accuracy: 0.9855 - val_loss: 1.7684 - val_accuracy: 0.7295\n",
      "Epoch 18/30\n",
      "179/179 [==============================] - 6s 36ms/step - loss: 0.0374 - accuracy: 0.9837 - val_loss: 1.5736 - val_accuracy: 0.7138\n",
      "Epoch 19/30\n",
      "179/179 [==============================] - 6s 36ms/step - loss: 0.0401 - accuracy: 0.9814 - val_loss: 1.3471 - val_accuracy: 0.7285\n",
      "Epoch 20/30\n",
      "179/179 [==============================] - 6s 36ms/step - loss: 0.0398 - accuracy: 0.9820 - val_loss: 1.4939 - val_accuracy: 0.7064\n",
      "Epoch 21/30\n",
      "179/179 [==============================] - 7s 38ms/step - loss: 0.0329 - accuracy: 0.9837 - val_loss: 1.6812 - val_accuracy: 0.7274\n",
      "Epoch 22/30\n",
      "179/179 [==============================] - 7s 42ms/step - loss: 0.0294 - accuracy: 0.9851 - val_loss: 1.8968 - val_accuracy: 0.7306\n",
      "Epoch 23/30\n",
      "179/179 [==============================] - 6s 32ms/step - loss: 0.0318 - accuracy: 0.9828 - val_loss: 1.6396 - val_accuracy: 0.7075\n",
      "Epoch 24/30\n",
      "179/179 [==============================] - 6s 33ms/step - loss: 0.0349 - accuracy: 0.9835 - val_loss: 1.7617 - val_accuracy: 0.7222\n",
      "Epoch 25/30\n",
      "179/179 [==============================] - 6s 32ms/step - loss: 0.0305 - accuracy: 0.9858 - val_loss: 1.6092 - val_accuracy: 0.7111\n",
      "Epoch 26/30\n",
      "179/179 [==============================] - 6s 33ms/step - loss: 0.0344 - accuracy: 0.9839 - val_loss: 1.7778 - val_accuracy: 0.7243\n",
      "Epoch 27/30\n",
      "179/179 [==============================] - 6s 35ms/step - loss: 0.0288 - accuracy: 0.9863 - val_loss: 1.7048 - val_accuracy: 0.7106\n",
      "Epoch 28/30\n",
      "179/179 [==============================] - 6s 34ms/step - loss: 0.0287 - accuracy: 0.9860 - val_loss: 1.7676 - val_accuracy: 0.7127\n",
      "Epoch 29/30\n",
      "179/179 [==============================] - 6s 32ms/step - loss: 0.0279 - accuracy: 0.9855 - val_loss: 1.9127 - val_accuracy: 0.7195\n",
      "Epoch 30/30\n",
      "179/179 [==============================] - 6s 35ms/step - loss: 0.0261 - accuracy: 0.9856 - val_loss: 1.7361 - val_accuracy: 0.7132\n"
     ]
    },
    {
     "data": {
      "text/plain": [
       "<tensorflow.python.keras.callbacks.History at 0x118cc246b88>"
      ]
     },
     "execution_count": 27,
     "metadata": {},
     "output_type": "execute_result"
    }
   ],
   "source": [
    "model.fit(X_train,Y_train,validation_data=(X_test,Y_test),epochs=30,batch_size=32)"
   ]
  },
  {
   "cell_type": "code",
   "execution_count": 39,
   "metadata": {},
   "outputs": [],
   "source": [
    "Y_pred = model.predict_classes(X_test)"
   ]
  },
  {
   "cell_type": "code",
   "execution_count": 40,
   "metadata": {},
   "outputs": [
    {
     "data": {
      "text/plain": [
       "0.7132352941176471"
      ]
     },
     "execution_count": 40,
     "metadata": {},
     "output_type": "execute_result"
    }
   ],
   "source": [
    "accuracy_score(Y_test,Y_pred)"
   ]
  },
  {
   "cell_type": "code",
   "execution_count": null,
   "metadata": {},
   "outputs": [],
   "source": []
  },
  {
   "cell_type": "code",
   "execution_count": null,
   "metadata": {},
   "outputs": [],
   "source": []
  }
 ],
 "metadata": {
  "kernelspec": {
   "display_name": "Python 3",
   "language": "python",
   "name": "python3"
  },
  "language_info": {
   "codemirror_mode": {
    "name": "ipython",
    "version": 3
   },
   "file_extension": ".py",
   "mimetype": "text/x-python",
   "name": "python",
   "nbconvert_exporter": "python",
   "pygments_lexer": "ipython3",
   "version": "3.7.6"
  }
 },
 "nbformat": 4,
 "nbformat_minor": 4
}
