{
 "cells": [
  {
   "cell_type": "code",
   "execution_count": 1,
   "metadata": {},
   "outputs": [],
   "source": [
    "import numpy as np\n",
    "import nltk\n",
    "import pandas as pd\n",
    "import string\n",
    "import re\n",
    "from nltk.tokenize import word_tokenize\n",
    "from sklearn.model_selection import train_test_split\n",
    "from sklearn.metrics import accuracy_score\n",
    "from tensorflow.keras.layers import Embedding \n",
    "from tensorflow.keras.preprocessing.sequence import pad_sequences \n",
    "from tensorflow.keras.models import Sequential \n",
    "from tensorflow.keras.preprocessing.text import one_hot \n",
    "from tensorflow.keras.layers import LSTM \n",
    "from tensorflow.keras.layers import Dense \n",
    "from tensorflow.keras.layers import Dropout"
   ]
  },
  {
   "cell_type": "code",
   "execution_count": 2,
   "metadata": {},
   "outputs": [],
   "source": [
    "train = pd.read_csv(\"train.csv\")"
   ]
  },
  {
   "cell_type": "code",
   "execution_count": 3,
   "metadata": {},
   "outputs": [],
   "source": [
    "data = train[['text','target']].copy()"
   ]
  },
  {
   "cell_type": "code",
   "execution_count": 4,
   "metadata": {},
   "outputs": [],
   "source": [
    "def removeURL(text):\n",
    "    url = re.compile(r'https?://\\S+|www\\.\\S+')\n",
    "    return url.sub(r'',text)\n",
    "\n",
    "data[\"text\"]=data[\"text\"].apply(lambda x: removeURL(x))"
   ]
  },
  {
   "cell_type": "code",
   "execution_count": 5,
   "metadata": {},
   "outputs": [],
   "source": [
    "def removeEMO(text):\n",
    "    pattern = re.compile(\"[\"\n",
    "                           u\"\\U0001F600-\\U0001F64F\"  # emoticons\n",
    "                           u\"\\U0001F300-\\U0001F5FF\"  # symbols & pictographs\n",
    "                           u\"\\U0001F680-\\U0001F6FF\"  # transport & map symbols\n",
    "                           u\"\\U0001F1E0-\\U0001F1FF\"  # flags (iOS)\n",
    "                           u\"\\U00002702-\\U000027B0\"\n",
    "                           u\"\\U000024C2-\\U0001F251\"\n",
    "                           \"]+\", flags=re.UNICODE)\n",
    "    return pattern.sub(r'', text)\n",
    "data[\"text\"]=data[\"text\"].apply(lambda x: removeEMO(x))"
   ]
  },
  {
   "cell_type": "code",
   "execution_count": 6,
   "metadata": {},
   "outputs": [],
   "source": [
    "def removePUN(text):\n",
    "    return text.translate(str.maketrans('', '', string.punctuation))\n",
    "data[\"text\"]=data[\"text\"].apply(lambda x: removePUN(x))"
   ]
  },
  {
   "cell_type": "code",
   "execution_count": 7,
   "metadata": {},
   "outputs": [],
   "source": [
    "s = 7000"
   ]
  },
  {
   "cell_type": "code",
   "execution_count": 8,
   "metadata": {},
   "outputs": [],
   "source": [
    "onehot = [one_hot(words,s) for words in data['text']]"
   ]
  },
  {
   "cell_type": "code",
   "execution_count": 9,
   "metadata": {},
   "outputs": [],
   "source": [
    "sent_length =40\n",
    "X = pad_sequences(onehot,padding='pre',maxlen=sent_length)\n",
    "embedding_vector_features=50\n",
    "\n",
    "Y = data['target']"
   ]
  },
  {
   "cell_type": "code",
   "execution_count": 22,
   "metadata": {},
   "outputs": [],
   "source": [
    "model=Sequential()\n",
    "model.add(Dense(100,activation='sigmoid'))\n",
    "model.add(Dropout(0.1))\n",
    "model.add(Dense(50,activation='sigmoid'))\n",
    "model.add(Dense(1,activation='sigmoid'))\n",
    "model.compile(loss='binary_crossentropy',optimizer='adam',metrics=['accuracy'])"
   ]
  },
  {
   "cell_type": "code",
   "execution_count": 23,
   "metadata": {},
   "outputs": [],
   "source": [
    "X_train,X_test,Y_train,Y_test = train_test_split(X,Y,test_size=0.25,random_state=1)"
   ]
  },
  {
   "cell_type": "code",
   "execution_count": 24,
   "metadata": {},
   "outputs": [
    {
     "name": "stdout",
     "output_type": "stream",
     "text": [
      "Epoch 1/30\n",
      "179/179 [==============================] - 1s 4ms/step - loss: 0.6814 - accuracy: 0.5609 - val_loss: 0.6820 - val_accuracy: 0.5720\n",
      "Epoch 2/30\n",
      "179/179 [==============================] - 1s 3ms/step - loss: 0.6773 - accuracy: 0.5617 - val_loss: 0.6768 - val_accuracy: 0.5730\n",
      "Epoch 3/30\n",
      "179/179 [==============================] - 0s 3ms/step - loss: 0.6743 - accuracy: 0.5696 - val_loss: 0.6776 - val_accuracy: 0.5572\n",
      "Epoch 4/30\n",
      "179/179 [==============================] - 0s 3ms/step - loss: 0.6756 - accuracy: 0.5644 - val_loss: 0.6769 - val_accuracy: 0.5683\n",
      "Epoch 5/30\n",
      "179/179 [==============================] - 0s 3ms/step - loss: 0.6758 - accuracy: 0.5656 - val_loss: 0.6754 - val_accuracy: 0.5625\n",
      "Epoch 6/30\n",
      "179/179 [==============================] - 0s 3ms/step - loss: 0.6766 - accuracy: 0.5540 - val_loss: 0.6893 - val_accuracy: 0.5730\n",
      "Epoch 7/30\n",
      "179/179 [==============================] - 0s 3ms/step - loss: 0.6745 - accuracy: 0.5684 - val_loss: 0.6804 - val_accuracy: 0.5462\n",
      "Epoch 8/30\n",
      "179/179 [==============================] - 1s 3ms/step - loss: 0.6757 - accuracy: 0.5700 - val_loss: 0.6757 - val_accuracy: 0.5667\n",
      "Epoch 9/30\n",
      "179/179 [==============================] - 1s 3ms/step - loss: 0.6726 - accuracy: 0.5691 - val_loss: 0.6781 - val_accuracy: 0.5420\n",
      "Epoch 10/30\n",
      "179/179 [==============================] - 1s 3ms/step - loss: 0.6730 - accuracy: 0.5733 - val_loss: 0.6797 - val_accuracy: 0.5378\n",
      "Epoch 11/30\n",
      "179/179 [==============================] - 1s 3ms/step - loss: 0.6723 - accuracy: 0.5726 - val_loss: 0.6744 - val_accuracy: 0.5725\n",
      "Epoch 12/30\n",
      "179/179 [==============================] - 0s 3ms/step - loss: 0.6721 - accuracy: 0.5740 - val_loss: 0.6767 - val_accuracy: 0.5746\n",
      "Epoch 13/30\n",
      "179/179 [==============================] - 1s 3ms/step - loss: 0.6714 - accuracy: 0.5684 - val_loss: 0.6766 - val_accuracy: 0.5657\n",
      "Epoch 14/30\n",
      "179/179 [==============================] - 1s 3ms/step - loss: 0.6718 - accuracy: 0.5730 - val_loss: 0.6760 - val_accuracy: 0.5572\n",
      "Epoch 15/30\n",
      "179/179 [==============================] - 0s 3ms/step - loss: 0.6722 - accuracy: 0.5763 - val_loss: 0.6777 - val_accuracy: 0.5636\n",
      "Epoch 16/30\n",
      "179/179 [==============================] - 1s 3ms/step - loss: 0.6696 - accuracy: 0.5793 - val_loss: 0.6787 - val_accuracy: 0.5473\n",
      "Epoch 17/30\n",
      "179/179 [==============================] - 1s 3ms/step - loss: 0.6705 - accuracy: 0.5677 - val_loss: 0.6826 - val_accuracy: 0.5730\n",
      "Epoch 18/30\n",
      "179/179 [==============================] - 1s 3ms/step - loss: 0.6724 - accuracy: 0.5735 - val_loss: 0.6760 - val_accuracy: 0.5741\n",
      "Epoch 19/30\n",
      "179/179 [==============================] - 1s 3ms/step - loss: 0.6719 - accuracy: 0.5716 - val_loss: 0.6759 - val_accuracy: 0.5725\n",
      "Epoch 20/30\n",
      "179/179 [==============================] - 1s 3ms/step - loss: 0.6712 - accuracy: 0.5726 - val_loss: 0.6751 - val_accuracy: 0.5604\n",
      "Epoch 21/30\n",
      "179/179 [==============================] - 0s 3ms/step - loss: 0.6729 - accuracy: 0.5663 - val_loss: 0.6738 - val_accuracy: 0.5657\n",
      "Epoch 22/30\n",
      "179/179 [==============================] - 1s 3ms/step - loss: 0.6694 - accuracy: 0.5775 - val_loss: 0.6769 - val_accuracy: 0.5525\n",
      "Epoch 23/30\n",
      "179/179 [==============================] - 1s 3ms/step - loss: 0.6728 - accuracy: 0.5666 - val_loss: 0.6751 - val_accuracy: 0.5578\n",
      "Epoch 24/30\n",
      "179/179 [==============================] - 1s 3ms/step - loss: 0.6721 - accuracy: 0.5719 - val_loss: 0.6769 - val_accuracy: 0.5420\n",
      "Epoch 25/30\n",
      "179/179 [==============================] - 1s 3ms/step - loss: 0.6715 - accuracy: 0.5793 - val_loss: 0.6752 - val_accuracy: 0.5599\n",
      "Epoch 26/30\n",
      "179/179 [==============================] - 0s 3ms/step - loss: 0.6703 - accuracy: 0.5740 - val_loss: 0.6766 - val_accuracy: 0.5614\n",
      "Epoch 27/30\n",
      "179/179 [==============================] - 0s 3ms/step - loss: 0.6720 - accuracy: 0.5761 - val_loss: 0.6762 - val_accuracy: 0.5678\n",
      "Epoch 28/30\n",
      "179/179 [==============================] - 0s 3ms/step - loss: 0.6728 - accuracy: 0.5751 - val_loss: 0.6805 - val_accuracy: 0.5462\n",
      "Epoch 29/30\n",
      "179/179 [==============================] - 0s 3ms/step - loss: 0.6711 - accuracy: 0.5766 - val_loss: 0.6760 - val_accuracy: 0.5651\n",
      "Epoch 30/30\n",
      "179/179 [==============================] - 0s 3ms/step - loss: 0.6695 - accuracy: 0.5726 - val_loss: 0.6820 - val_accuracy: 0.5420\n"
     ]
    },
    {
     "data": {
      "text/plain": [
       "<tensorflow.python.keras.callbacks.History at 0x2c37b1b03c8>"
      ]
     },
     "execution_count": 24,
     "metadata": {},
     "output_type": "execute_result"
    }
   ],
   "source": [
    "model.fit(X_train,Y_train,validation_data=(X_test,Y_test),epochs=30,batch_size=32)"
   ]
  },
  {
   "cell_type": "code",
   "execution_count": 31,
   "metadata": {},
   "outputs": [],
   "source": [
    "Y_pred = model.predict_classes(X_test)"
   ]
  },
  {
   "cell_type": "code",
   "execution_count": 32,
   "metadata": {},
   "outputs": [
    {
     "data": {
      "text/plain": [
       "0.542016806722689"
      ]
     },
     "execution_count": 32,
     "metadata": {},
     "output_type": "execute_result"
    }
   ],
   "source": [
    "accuracy_score(Y_test,Y_pred)"
   ]
  },
  {
   "cell_type": "code",
   "execution_count": null,
   "metadata": {},
   "outputs": [],
   "source": []
  },
  {
   "cell_type": "code",
   "execution_count": null,
   "metadata": {},
   "outputs": [],
   "source": []
  },
  {
   "cell_type": "code",
   "execution_count": null,
   "metadata": {},
   "outputs": [],
   "source": []
  },
  {
   "cell_type": "code",
   "execution_count": null,
   "metadata": {},
   "outputs": [],
   "source": []
  }
 ],
 "metadata": {
  "kernelspec": {
   "display_name": "Python 3",
   "language": "python",
   "name": "python3"
  },
  "language_info": {
   "codemirror_mode": {
    "name": "ipython",
    "version": 3
   },
   "file_extension": ".py",
   "mimetype": "text/x-python",
   "name": "python",
   "nbconvert_exporter": "python",
   "pygments_lexer": "ipython3",
   "version": "3.7.6"
  }
 },
 "nbformat": 4,
 "nbformat_minor": 4
}
